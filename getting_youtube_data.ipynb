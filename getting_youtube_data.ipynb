{
 "cells": [
  {
   "cell_type": "code",
   "execution_count": 41,
   "id": "61ac5879",
   "metadata": {},
   "outputs": [],
   "source": [
    "import pandas as pd\n",
    "import requests\n",
    "import streamlit as st"
   ]
  },
  {
   "cell_type": "code",
   "execution_count": 42,
   "id": "6b656b94",
   "metadata": {},
   "outputs": [],
   "source": [
    "API_KEY = '*************************'\n",
    "CHANNEL_ID = 'UCYO_jab_esuFRV4b17AJtAw'"
   ]
  },
  {
   "cell_type": "code",
   "execution_count": 43,
   "id": "a22e3f1e",
   "metadata": {},
   "outputs": [],
   "source": [
    "#make api call\n",
    "pageToken= ''\n",
    "url = \"https://www.googleapis.com/youtube/v3/search?key=\"+API_KEY+\"&channelId=\"+CHANNEL_ID+\"&part=snippet,id&order=date&maxResults=10000\"\n",
    "response = requests.get(url).json()\n",
    "\n",
    "video_id = response['items'][0]['id'][ 'videoId']\n",
    "video_title = response['items'][0]['snippet']['title']\n",
    "vedio_title = str(video_title).replace('&amp;', '')"
   ]
  },
  {
   "cell_type": "code",
   "execution_count": 50,
   "id": "94f7c4f7",
   "metadata": {},
   "outputs": [],
   "source": [
    "#build our dataframe\n",
    "df = pd.DataFrame(columns=['video_id', 'video_title', 'upload_date', 'view_count', 'like_count', 'comment_count'])"
   ]
  },
  {
   "cell_type": "code",
   "execution_count": 51,
   "id": "ca7629af",
   "metadata": {},
   "outputs": [],
   "source": [
    "#collecting video title, upload date, and video id\n",
    "for video in response['items']:\n",
    "    if video['id']['kind'] == 'youtube#video':\n",
    "        video_id = video['id']['videoId']\n",
    "        video_title = video['snippet']['title']\n",
    "        vedio_title = str(video_title).replace('&amp;', '')\n",
    "        upload_date = video['snippet']['publishedAt']\n",
    "        upload_date = str(upload_date).split('T')[0]\n",
    "        \n",
    "        \n",
    "        #collecting view, like, comment counts\n",
    "        url_video_stats = \"https://www.googleapis.com/youtube/v3/videos?id=\"+video_id+\"&part=statistics&key=\"+API_KEY\n",
    "        response_video_stats = requests.get(url_video_stats).json()\n",
    "\n",
    "        view_count = response_video_stats['items'][0]['statistics']['viewCount']\n",
    "        like_count = response_video_stats['items'][0]['statistics']['likeCount']\n",
    "        comment_count = response_video_stats['items'][0]['statistics']['commentCount']\n",
    "       \n",
    "        \n",
    "        #save data in pandas dataframe\n",
    "        df = df.append({'video_id':video_id,'video_title':video_title,\n",
    "                            \"upload_date\":upload_date,\"view_count\":view_count,\n",
    "                            \"like_count\":like_count,\n",
    "                            \"comment_count\":comment_count, subscriber_count:'subscriber_count'},ignore_index=True)\n",
    "        \n",
    "      \n",
    "        \n"
   ]
  },
  {
   "cell_type": "code",
   "execution_count": 52,
   "id": "65eb1844",
   "metadata": {},
   "outputs": [
    {
     "data": {
      "text/html": [
       "<div>\n",
       "<style scoped>\n",
       "    .dataframe tbody tr th:only-of-type {\n",
       "        vertical-align: middle;\n",
       "    }\n",
       "\n",
       "    .dataframe tbody tr th {\n",
       "        vertical-align: top;\n",
       "    }\n",
       "\n",
       "    .dataframe thead th {\n",
       "        text-align: right;\n",
       "    }\n",
       "</style>\n",
       "<table border=\"1\" class=\"dataframe\">\n",
       "  <thead>\n",
       "    <tr style=\"text-align: right;\">\n",
       "      <th></th>\n",
       "      <th>video_id</th>\n",
       "      <th>video_title</th>\n",
       "      <th>upload_date</th>\n",
       "      <th>view_count</th>\n",
       "      <th>like_count</th>\n",
       "      <th>comment_count</th>\n",
       "      <th>1132242</th>\n",
       "    </tr>\n",
       "  </thead>\n",
       "  <tbody>\n",
       "    <tr>\n",
       "      <th>0</th>\n",
       "      <td>cy8r7WSuT1I</td>\n",
       "      <td>Why π is in the normal distribution (beyond in...</td>\n",
       "      <td>2023-04-02</td>\n",
       "      <td>915352</td>\n",
       "      <td>35939</td>\n",
       "      <td>1367</td>\n",
       "      <td>subscriber_count</td>\n",
       "    </tr>\n",
       "    <tr>\n",
       "      <th>1</th>\n",
       "      <td>zeJD6dqJ5lo</td>\n",
       "      <td>But what is the Central Limit Theorem?</td>\n",
       "      <td>2023-03-14</td>\n",
       "      <td>2091136</td>\n",
       "      <td>45793</td>\n",
       "      <td>1819</td>\n",
       "      <td>subscriber_count</td>\n",
       "    </tr>\n",
       "    <tr>\n",
       "      <th>2</th>\n",
       "      <td>KuXjwB4LzSA</td>\n",
       "      <td>But what is a convolution?</td>\n",
       "      <td>2022-11-18</td>\n",
       "      <td>1719960</td>\n",
       "      <td>74796</td>\n",
       "      <td>2292</td>\n",
       "      <td>subscriber_count</td>\n",
       "    </tr>\n",
       "    <tr>\n",
       "      <th>3</th>\n",
       "      <td>851U557j6HE</td>\n",
       "      <td>Researchers thought this was a bug (Borwein in...</td>\n",
       "      <td>2022-11-04</td>\n",
       "      <td>1781126</td>\n",
       "      <td>57651</td>\n",
       "      <td>1754</td>\n",
       "      <td>subscriber_count</td>\n",
       "    </tr>\n",
       "    <tr>\n",
       "      <th>4</th>\n",
       "      <td>cDofhN-RJqg</td>\n",
       "      <td>We ran a contest for math explainers, here are...</td>\n",
       "      <td>2022-10-01</td>\n",
       "      <td>689519</td>\n",
       "      <td>35862</td>\n",
       "      <td>1101</td>\n",
       "      <td>subscriber_count</td>\n",
       "    </tr>\n",
       "  </tbody>\n",
       "</table>\n",
       "</div>"
      ],
      "text/plain": [
       "      video_id                                        video_title upload_date  \\\n",
       "0  cy8r7WSuT1I  Why π is in the normal distribution (beyond in...  2023-04-02   \n",
       "1  zeJD6dqJ5lo             But what is the Central Limit Theorem?  2023-03-14   \n",
       "2  KuXjwB4LzSA                         But what is a convolution?  2022-11-18   \n",
       "3  851U557j6HE  Researchers thought this was a bug (Borwein in...  2022-11-04   \n",
       "4  cDofhN-RJqg  We ran a contest for math explainers, here are...  2022-10-01   \n",
       "\n",
       "  view_count like_count comment_count           1132242  \n",
       "0     915352      35939          1367  subscriber_count  \n",
       "1    2091136      45793          1819  subscriber_count  \n",
       "2    1719960      74796          2292  subscriber_count  \n",
       "3    1781126      57651          1754  subscriber_count  \n",
       "4     689519      35862          1101  subscriber_count  "
      ]
     },
     "execution_count": 52,
     "metadata": {},
     "output_type": "execute_result"
    }
   ],
   "source": [
    "df.head()"
   ]
  },
  {
   "cell_type": "code",
   "execution_count": 14,
   "id": "ca193158",
   "metadata": {},
   "outputs": [],
   "source": [
    "folder_path = 'C:\\YT_dashboard'\n",
    "file_path = folder_path+'/yt_data.csv'\n",
    "df.to_csv(file_path, index=False) "
   ]
  },
  {
   "cell_type": "code",
   "execution_count": null,
   "id": "669b4cb0",
   "metadata": {},
   "outputs": [],
   "source": []
  }
 ],
 "metadata": {
  "kernelspec": {
   "display_name": "Python 3 (ipykernel)",
   "language": "python",
   "name": "python3"
  },
  "language_info": {
   "codemirror_mode": {
    "name": "ipython",
    "version": 3
   },
   "file_extension": ".py",
   "mimetype": "text/x-python",
   "name": "python",
   "nbconvert_exporter": "python",
   "pygments_lexer": "ipython3",
   "version": "3.9.13"
  }
 },
 "nbformat": 4,
 "nbformat_minor": 5
}
